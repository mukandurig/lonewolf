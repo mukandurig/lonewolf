{
 "cells": [
  {
   "cell_type": "code",
   "execution_count": 19,
   "id": "004943a1-8997-460d-9609-dbd66c33569f",
   "metadata": {},
   "outputs": [
    {
     "data": {
      "text/plain": [
       "'C:\\\\Users\\\\love'"
      ]
     },
     "execution_count": 19,
     "metadata": {},
     "output_type": "execute_result"
    }
   ],
   "source": [
    "pwd"
   ]
  },
  {
   "cell_type": "code",
   "execution_count": 25,
   "id": "9736f2bc-bd96-4059-b24c-e672cd8c6496",
   "metadata": {},
   "outputs": [],
   "source": [
    "import pandas as pd"
   ]
  },
  {
   "cell_type": "code",
   "execution_count": 27,
   "id": "c9b3295c-fd81-46cc-8714-bd1e11a04ef8",
   "metadata": {},
   "outputs": [],
   "source": [
    "df = pd.read_csv(\"WorldBank(1).csv\")"
   ]
  },
  {
   "cell_type": "code",
   "execution_count": 29,
   "id": "2d84c403-7706-495e-9bca-4fc4e14bb155",
   "metadata": {},
   "outputs": [
    {
     "name": "stdout",
     "output_type": "stream",
     "text": [
      "  Country Name Country Code      Region IncomeGroup  Year  \\\n",
      "0  Afghanistan          AFG  South Asia  Low income  2018   \n",
      "1  Afghanistan          AFG  South Asia  Low income  2017   \n",
      "2  Afghanistan          AFG  South Asia  Low income  2016   \n",
      "3  Afghanistan          AFG  South Asia  Low income  2015   \n",
      "4  Afghanistan          AFG  South Asia  Low income  2014   \n",
      "\n",
      "   Birth rate, crude (per 1,000 people)  Death rate, crude (per 1,000 people)  \\\n",
      "0                                   NaN                                   NaN   \n",
      "1                                33.211                                 6.575   \n",
      "2                                33.981                                 6.742   \n",
      "3                                34.809                                 6.929   \n",
      "4                                35.706                                 7.141   \n",
      "\n",
      "   Electric power consumption (kWh per capita)     GDP (USD)  \\\n",
      "0                                          NaN  1.936300e+10   \n",
      "1                                          NaN  2.019180e+10   \n",
      "2                                          NaN  1.936260e+10   \n",
      "3                                          NaN  1.990710e+10   \n",
      "4                                          NaN  2.048490e+10   \n",
      "\n",
      "   GDP per capita (USD)  Individuals using the Internet (% of population)  \\\n",
      "0               520.897                                               NaN   \n",
      "1               556.302                                             13.50   \n",
      "2               547.228                                             11.20   \n",
      "3               578.466                                              8.26   \n",
      "4               613.856                                              7.00   \n",
      "\n",
      "   Infant mortality rate (per 1,000 live births)  \\\n",
      "0                                           47.9   \n",
      "1                                           49.5   \n",
      "2                                           51.2   \n",
      "3                                           53.1   \n",
      "4                                           55.1   \n",
      "\n",
      "   Life expectancy at birth (years)  \\\n",
      "0                               NaN   \n",
      "1                            64.130   \n",
      "2                            63.763   \n",
      "3                            63.377   \n",
      "4                            62.966   \n",
      "\n",
      "   Population density (people per sq. km of land area)  \\\n",
      "0                                            56.9378     \n",
      "1                                            55.5960     \n",
      "2                                            54.1971     \n",
      "3                                            52.7121     \n",
      "4                                            51.1148     \n",
      "\n",
      "   Unemployment (% of total labor force) (modeled ILO estimate)  \n",
      "0                                              1.542             \n",
      "1                                              1.559             \n",
      "2                                              1.634             \n",
      "3                                              1.679             \n",
      "4                                              1.735             \n"
     ]
    }
   ],
   "source": [
    "print(df.head())"
   ]
  },
  {
   "cell_type": "code",
   "execution_count": 31,
   "id": "b68d1f5a-cc9d-4669-8fbc-4f424dec7db0",
   "metadata": {},
   "outputs": [],
   "source": [
    "shape = df.shape"
   ]
  },
  {
   "cell_type": "code",
   "execution_count": 37,
   "id": "8fdbb8d2-6312-409d-bf77-57035e77d6b7",
   "metadata": {},
   "outputs": [
    {
     "name": "stdout",
     "output_type": "stream",
     "text": [
      "The shape of the DataFrame is:(12449, 15)\n"
     ]
    }
   ],
   "source": [
    "print(f\"The shape of the DataFrame is:{shape}\")"
   ]
  },
  {
   "cell_type": "code",
   "execution_count": 39,
   "id": "21cf5f2b-653b-43d3-ad2e-9a02630cd4cc",
   "metadata": {},
   "outputs": [],
   "source": [
    "headers = df.columns"
   ]
  },
  {
   "cell_type": "code",
   "execution_count": 43,
   "id": "4b0683a4-20db-4743-85d3-bac6c6387e70",
   "metadata": {},
   "outputs": [
    {
     "name": "stdout",
     "output_type": "stream",
     "text": [
      "Headers of the dataset:\n",
      "['Country Name', 'Country Code', 'Region', 'IncomeGroup', 'Year', 'Birth rate, crude (per 1,000 people)', 'Death rate, crude (per 1,000 people)', 'Electric power consumption (kWh per capita)', 'GDP (USD)', 'GDP per capita (USD)', 'Individuals using the Internet (% of population)', 'Infant mortality rate (per 1,000 live births)', 'Life expectancy at birth (years)', 'Population density (people per sq. km of land area)', 'Unemployment (% of total labor force) (modeled ILO estimate)']\n"
     ]
    }
   ],
   "source": [
    "print(\"Headers of the dataset:\")\n",
    "print(headers.tolist())"
   ]
  },
  {
   "cell_type": "code",
   "execution_count": 45,
   "id": "5177bdeb-2369-4f50-93a7-60574eabb8e6",
   "metadata": {},
   "outputs": [
    {
     "name": "stdout",
     "output_type": "stream",
     "text": [
      "['Country Name', 'Country Code', 'Region', 'IncomeGroup', 'Year', 'Birth rate, crude (per 1,000 people)', 'Death rate, crude (per 1,000 people)', 'Electric power consumption (kWh per capita)', 'GDP (USD)', 'GDP per capita (USD)', 'Individuals using the Internet (% of population)', 'Infant mortality rate (per 1,000 live births)', 'Life expectancy at birth (years)', 'Population density (people per sq. km of land area)', 'Unemployment (% of total labor force) (modeled ILO estimate)']\n"
     ]
    }
   ],
   "source": [
    "print(headers.tolist())"
   ]
  },
  {
   "cell_type": "code",
   "execution_count": 47,
   "id": "f3434b42-072b-483c-bcfe-b2df6e1d4020",
   "metadata": {},
   "outputs": [
    {
     "name": "stdout",
     "output_type": "stream",
     "text": [
      "First 5 rows of the dataset:\n",
      "  Country Name Country Code      Region IncomeGroup  Year  \\\n",
      "0  Afghanistan          AFG  South Asia  Low income  2018   \n",
      "1  Afghanistan          AFG  South Asia  Low income  2017   \n",
      "2  Afghanistan          AFG  South Asia  Low income  2016   \n",
      "3  Afghanistan          AFG  South Asia  Low income  2015   \n",
      "4  Afghanistan          AFG  South Asia  Low income  2014   \n",
      "\n",
      "   Birth rate, crude (per 1,000 people)  Death rate, crude (per 1,000 people)  \\\n",
      "0                                   NaN                                   NaN   \n",
      "1                                33.211                                 6.575   \n",
      "2                                33.981                                 6.742   \n",
      "3                                34.809                                 6.929   \n",
      "4                                35.706                                 7.141   \n",
      "\n",
      "   Electric power consumption (kWh per capita)     GDP (USD)  \\\n",
      "0                                          NaN  1.936300e+10   \n",
      "1                                          NaN  2.019180e+10   \n",
      "2                                          NaN  1.936260e+10   \n",
      "3                                          NaN  1.990710e+10   \n",
      "4                                          NaN  2.048490e+10   \n",
      "\n",
      "   GDP per capita (USD)  Individuals using the Internet (% of population)  \\\n",
      "0               520.897                                               NaN   \n",
      "1               556.302                                             13.50   \n",
      "2               547.228                                             11.20   \n",
      "3               578.466                                              8.26   \n",
      "4               613.856                                              7.00   \n",
      "\n",
      "   Infant mortality rate (per 1,000 live births)  \\\n",
      "0                                           47.9   \n",
      "1                                           49.5   \n",
      "2                                           51.2   \n",
      "3                                           53.1   \n",
      "4                                           55.1   \n",
      "\n",
      "   Life expectancy at birth (years)  \\\n",
      "0                               NaN   \n",
      "1                            64.130   \n",
      "2                            63.763   \n",
      "3                            63.377   \n",
      "4                            62.966   \n",
      "\n",
      "   Population density (people per sq. km of land area)  \\\n",
      "0                                            56.9378     \n",
      "1                                            55.5960     \n",
      "2                                            54.1971     \n",
      "3                                            52.7121     \n",
      "4                                            51.1148     \n",
      "\n",
      "   Unemployment (% of total labor force) (modeled ILO estimate)  \n",
      "0                                              1.542             \n",
      "1                                              1.559             \n",
      "2                                              1.634             \n",
      "3                                              1.679             \n",
      "4                                              1.735             \n",
      "Last 5 rows of the dataset:\n",
      "      Country Name Country Code              Region IncomeGroup  Year  \\\n",
      "12444     Zimbabwe          ZWE  Sub-Saharan Africa  Low income  1964   \n",
      "12445     Zimbabwe          ZWE  Sub-Saharan Africa  Low income  1963   \n",
      "12446     Zimbabwe          ZWE  Sub-Saharan Africa  Low income  1962   \n",
      "12447     Zimbabwe          ZWE  Sub-Saharan Africa  Low income  1961   \n",
      "12448     Zimbabwe          ZWE  Sub-Saharan Africa  Low income  1960   \n",
      "\n",
      "       Birth rate, crude (per 1,000 people)  \\\n",
      "12444                                47.770   \n",
      "12445                                47.876   \n",
      "12446                                47.950   \n",
      "12447                                47.988   \n",
      "12448                                47.996   \n",
      "\n",
      "       Death rate, crude (per 1,000 people)  \\\n",
      "12444                                13.083   \n",
      "12445                                13.419   \n",
      "12446                                13.762   \n",
      "12447                                14.104   \n",
      "12448                                14.441   \n",
      "\n",
      "       Electric power consumption (kWh per capita)     GDP (USD)  \\\n",
      "12444                                          NaN  1.217138e+09   \n",
      "12445                                          NaN  1.159512e+09   \n",
      "12446                                          NaN  1.117602e+09   \n",
      "12447                                          NaN  1.096647e+09   \n",
      "12448                                          NaN  1.052990e+09   \n",
      "\n",
      "       GDP per capita (USD)  Individuals using the Internet (% of population)  \\\n",
      "12444               281.558                                               NaN   \n",
      "12445               277.480                                               NaN   \n",
      "12446               276.689                                               NaN   \n",
      "12447               280.829                                               NaN   \n",
      "12448               278.814                                               NaN   \n",
      "\n",
      "       Infant mortality rate (per 1,000 live births)  \\\n",
      "12444                                           83.2   \n",
      "12445                                           85.7   \n",
      "12446                                           88.1   \n",
      "12447                                           90.5   \n",
      "12448                                           92.8   \n",
      "\n",
      "       Life expectancy at birth (years)  \\\n",
      "12444                            54.849   \n",
      "12445                            54.403   \n",
      "12446                            53.946   \n",
      "12447                            53.483   \n",
      "12448                            53.019   \n",
      "\n",
      "       Population density (people per sq. km of land area)  \\\n",
      "12444                                            11.1745     \n",
      "12445                                            10.8019     \n",
      "12446                                            10.4413     \n",
      "12447                                            10.0944     \n",
      "12448                                                NaN     \n",
      "\n",
      "       Unemployment (% of total labor force) (modeled ILO estimate)  \n",
      "12444                                                NaN             \n",
      "12445                                                NaN             \n",
      "12446                                                NaN             \n",
      "12447                                                NaN             \n",
      "12448                                                NaN             \n"
     ]
    }
   ],
   "source": [
    "print(\"First 5 rows of the dataset:\")\n",
    "print(df.head())\n",
    "print(\"Last 5 rows of the dataset:\")\n",
    "print(df.tail())"
   ]
  },
  {
   "cell_type": "code",
   "execution_count": 49,
   "id": "f2bf7093-0566-4796-856e-3fe28a601f84",
   "metadata": {},
   "outputs": [],
   "source": [
    "description = df.describe()"
   ]
  },
  {
   "cell_type": "code",
   "execution_count": 51,
   "id": "0e997f5d-f7af-4d9a-811e-6c2953f46444",
   "metadata": {},
   "outputs": [
    {
     "name": "stdout",
     "output_type": "stream",
     "text": [
      "Statistical summary of the dataset:\n",
      "              Year  Birth rate, crude (per 1,000 people)  \\\n",
      "count  12449.00000                          11440.000000   \n",
      "mean    1989.00000                             28.643276   \n",
      "std       17.03007                             13.131893   \n",
      "min     1960.00000                              6.900000   \n",
      "25%     1974.00000                             16.600000   \n",
      "50%     1989.00000                             27.545500   \n",
      "75%     2004.00000                             40.881250   \n",
      "max     2018.00000                             58.227000   \n",
      "\n",
      "       Death rate, crude (per 1,000 people)  \\\n",
      "count                          11416.000000   \n",
      "mean                              10.588539   \n",
      "std                                5.489382   \n",
      "min                                1.127000   \n",
      "25%                                6.863750   \n",
      "50%                                9.200000   \n",
      "75%                               12.687000   \n",
      "max                               54.444000   \n",
      "\n",
      "       Electric power consumption (kWh per capita)     GDP (USD)  \\\n",
      "count                                  5848.000000  9.578000e+03   \n",
      "mean                                   3175.294686  1.700740e+11   \n",
      "std                                    4467.139298  8.979866e+11   \n",
      "min                                       0.000000  8.824450e+06   \n",
      "25%                                     390.385750  1.393010e+09   \n",
      "50%                                    1541.895000  7.275305e+09   \n",
      "75%                                    4313.767500  4.857782e+10   \n",
      "max                                   54799.200000  2.050000e+13   \n",
      "\n",
      "       GDP per capita (USD)  Individuals using the Internet (% of population)  \\\n",
      "count           9575.000000                                       5064.000000   \n",
      "mean            8231.812259                                         23.334471   \n",
      "std            16173.539954                                         28.319388   \n",
      "min               34.790600                                          0.000000   \n",
      "25%              513.145500                                          0.594949   \n",
      "50%             1852.810000                                          8.406225   \n",
      "75%             7774.565000                                         41.295950   \n",
      "max           189171.000000                                        100.000000   \n",
      "\n",
      "       Infant mortality rate (per 1,000 live births)  \\\n",
      "count                                    9984.000000   \n",
      "mean                                       51.704437   \n",
      "std                                        46.131039   \n",
      "min                                         1.400000   \n",
      "25%                                        14.475000   \n",
      "50%                                        37.000000   \n",
      "75%                                        78.200000   \n",
      "max                                       279.400000   \n",
      "\n",
      "       Life expectancy at birth (years)  \\\n",
      "count                      11176.000000   \n",
      "mean                          64.044692   \n",
      "std                           11.491087   \n",
      "min                           18.907000   \n",
      "25%                           55.917750   \n",
      "50%                           67.276000   \n",
      "75%                           72.692250   \n",
      "max                           85.417100   \n",
      "\n",
      "       Population density (people per sq. km of land area)  \\\n",
      "count                                       11845.000000     \n",
      "mean                                          318.861370     \n",
      "std                                          1593.406041     \n",
      "min                                             0.098625     \n",
      "25%                                            19.783400     \n",
      "50%                                            64.007500     \n",
      "75%                                           144.823000     \n",
      "max                                         21389.100000     \n",
      "\n",
      "       Unemployment (% of total labor force) (modeled ILO estimate)  \n",
      "count                                        5208.000000             \n",
      "mean                                            8.295079             \n",
      "std                                             6.290703             \n",
      "min                                             0.140000             \n",
      "25%                                             3.687000             \n",
      "50%                                             6.775000             \n",
      "75%                                            11.212250             \n",
      "max                                            37.940000             \n"
     ]
    }
   ],
   "source": [
    "print(\"Statistical summary of the dataset:\")\n",
    "print(description)"
   ]
  },
  {
   "cell_type": "code",
   "execution_count": 53,
   "id": "cbc88282-3b69-4a2b-b400-39b5d029c6cd",
   "metadata": {},
   "outputs": [],
   "source": [
    "data_types = df.dtypes"
   ]
  },
  {
   "cell_type": "code",
   "execution_count": 55,
   "id": "54d98e57-b1f2-4d9b-9551-595ead7be421",
   "metadata": {},
   "outputs": [
    {
     "name": "stdout",
     "output_type": "stream",
     "text": [
      "Data types of each attribute in the dataset:\n",
      "Country Name                                                     object\n",
      "Country Code                                                     object\n",
      "Region                                                           object\n",
      "IncomeGroup                                                      object\n",
      "Year                                                              int64\n",
      "Birth rate, crude (per 1,000 people)                            float64\n",
      "Death rate, crude (per 1,000 people)                            float64\n",
      "Electric power consumption (kWh per capita)                     float64\n",
      "GDP (USD)                                                       float64\n",
      "GDP per capita (USD)                                            float64\n",
      "Individuals using the Internet (% of population)                float64\n",
      "Infant mortality rate (per 1,000 live births)                   float64\n",
      "Life expectancy at birth (years)                                float64\n",
      "Population density (people per sq. km of land area)             float64\n",
      "Unemployment (% of total labor force) (modeled ILO estimate)    float64\n",
      "dtype: object\n"
     ]
    }
   ],
   "source": [
    "print(\"Data types of each attribute in the dataset:\")\n",
    "print(data_types)\n",
    "      "
   ]
  },
  {
   "cell_type": "code",
   "execution_count": 59,
   "id": "ecaa9725-3256-44ca-9848-3768885931b3",
   "metadata": {},
   "outputs": [
    {
     "name": "stdout",
     "output_type": "stream",
     "text": [
      "Requirement already satisfied: scikit-learn in c:\\users\\love\\anacon\\lib\\site-packages (1.5.1)\n",
      "Requirement already satisfied: numpy>=1.19.5 in c:\\users\\love\\anacon\\lib\\site-packages (from scikit-learn) (1.26.4)\n",
      "Requirement already satisfied: scipy>=1.6.0 in c:\\users\\love\\anacon\\lib\\site-packages (from scikit-learn) (1.13.1)\n",
      "Requirement already satisfied: joblib>=1.2.0 in c:\\users\\love\\anacon\\lib\\site-packages (from scikit-learn) (1.4.2)\n",
      "Requirement already satisfied: threadpoolctl>=3.1.0 in c:\\users\\love\\anacon\\lib\\site-packages (from scikit-learn) (3.5.0)\n",
      "Note: you may need to restart the kernel to use updated packages.\n"
     ]
    }
   ],
   "source": [
    "pip install scikit-learn"
   ]
  },
  {
   "cell_type": "code",
   "execution_count": 1,
   "id": "4288625b-8550-4ede-9fc9-a804461b7cf5",
   "metadata": {},
   "outputs": [],
   "source": [
    "import pandas as pd\n",
    "import matplotlib.pyplot as plt \n",
    "from sklearn.linear_model import LinearRegression\n",
    "import numpy as np"
   ]
  },
  {
   "cell_type": "code",
   "execution_count": 3,
   "id": "9811aaf0-7312-49bd-84f8-f8897ad8efa5",
   "metadata": {},
   "outputs": [],
   "source": [
    "df = pd.read_csv(\"WorldBank(1).csv\")"
   ]
  },
  {
   "cell_type": "code",
   "execution_count": 7,
   "id": "fcce6e58-7156-4b98-af34-914f0f85bdd2",
   "metadata": {},
   "outputs": [
    {
     "name": "stdout",
     "output_type": "stream",
     "text": [
      "Requirement already satisfied: matplotlib in c:\\users\\love\\anacon\\lib\\site-packages (3.9.2)\n",
      "Requirement already satisfied: pandas in c:\\users\\love\\anacon\\lib\\site-packages (2.2.2)\n",
      "Requirement already satisfied: contourpy>=1.0.1 in c:\\users\\love\\anacon\\lib\\site-packages (from matplotlib) (1.2.0)\n",
      "Requirement already satisfied: cycler>=0.10 in c:\\users\\love\\anacon\\lib\\site-packages (from matplotlib) (0.11.0)\n",
      "Requirement already satisfied: fonttools>=4.22.0 in c:\\users\\love\\anacon\\lib\\site-packages (from matplotlib) (4.51.0)\n",
      "Requirement already satisfied: kiwisolver>=1.3.1 in c:\\users\\love\\anacon\\lib\\site-packages (from matplotlib) (1.4.4)\n",
      "Requirement already satisfied: numpy>=1.23 in c:\\users\\love\\anacon\\lib\\site-packages (from matplotlib) (1.26.4)\n",
      "Requirement already satisfied: packaging>=20.0 in c:\\users\\love\\anacon\\lib\\site-packages (from matplotlib) (24.1)\n",
      "Requirement already satisfied: pillow>=8 in c:\\users\\love\\anacon\\lib\\site-packages (from matplotlib) (10.4.0)\n",
      "Requirement already satisfied: pyparsing>=2.3.1 in c:\\users\\love\\anacon\\lib\\site-packages (from matplotlib) (3.1.2)\n",
      "Requirement already satisfied: python-dateutil>=2.7 in c:\\users\\love\\anacon\\lib\\site-packages (from matplotlib) (2.9.0.post0)\n",
      "Requirement already satisfied: pytz>=2020.1 in c:\\users\\love\\anacon\\lib\\site-packages (from pandas) (2024.1)\n",
      "Requirement already satisfied: tzdata>=2022.7 in c:\\users\\love\\anacon\\lib\\site-packages (from pandas) (2023.3)\n",
      "Requirement already satisfied: six>=1.5 in c:\\users\\love\\anacon\\lib\\site-packages (from python-dateutil>=2.7->matplotlib) (1.16.0)\n",
      "Note: you may need to restart the kernel to use updated packages.\n"
     ]
    }
   ],
   "source": [
    "pip install matplotlib pandas"
   ]
  },
  {
   "cell_type": "code",
   "execution_count": 32,
   "id": "5ca5d00e-1369-43de-8011-25e4cadd1971",
   "metadata": {},
   "outputs": [
    {
     "ename": "FileNotFoundError",
     "evalue": "[Errno 2] No such file or directory: 'your_dataset.csv'",
     "output_type": "error",
     "traceback": [
      "\u001b[1;31m---------------------------------------------------------------------------\u001b[0m",
      "\u001b[1;31mFileNotFoundError\u001b[0m                         Traceback (most recent call last)",
      "Cell \u001b[1;32mIn[32], line 6\u001b[0m\n\u001b[0;32m      2\u001b[0m \u001b[38;5;28;01mimport\u001b[39;00m \u001b[38;5;21;01mmatplotlib\u001b[39;00m\u001b[38;5;21;01m.\u001b[39;00m\u001b[38;5;21;01mpyplot\u001b[39;00m \u001b[38;5;28;01mas\u001b[39;00m \u001b[38;5;21;01mplt\u001b[39;00m\n\u001b[0;32m      4\u001b[0m \u001b[38;5;66;03m# Load your dataset\u001b[39;00m\n\u001b[0;32m      5\u001b[0m \u001b[38;5;66;03m# Replace 'your_dataset.csv' with your actual dataset file\u001b[39;00m\n\u001b[1;32m----> 6\u001b[0m data \u001b[38;5;241m=\u001b[39m pd\u001b[38;5;241m.\u001b[39mread_csv(\u001b[38;5;124m'\u001b[39m\u001b[38;5;124myour_dataset.csv\u001b[39m\u001b[38;5;124m'\u001b[39m)\n\u001b[0;32m      8\u001b[0m \u001b[38;5;66;03m# Assuming your dataset has 'x_column' and 'y_column'\u001b[39;00m\n\u001b[0;32m      9\u001b[0m x \u001b[38;5;241m=\u001b[39m data[\u001b[38;5;124m'\u001b[39m\u001b[38;5;124mx_column\u001b[39m\u001b[38;5;124m'\u001b[39m]  \u001b[38;5;66;03m# Replace with your x-axis column name\u001b[39;00m\n",
      "File \u001b[1;32m~\\anacon\\Lib\\site-packages\\pandas\\io\\parsers\\readers.py:1026\u001b[0m, in \u001b[0;36mread_csv\u001b[1;34m(filepath_or_buffer, sep, delimiter, header, names, index_col, usecols, dtype, engine, converters, true_values, false_values, skipinitialspace, skiprows, skipfooter, nrows, na_values, keep_default_na, na_filter, verbose, skip_blank_lines, parse_dates, infer_datetime_format, keep_date_col, date_parser, date_format, dayfirst, cache_dates, iterator, chunksize, compression, thousands, decimal, lineterminator, quotechar, quoting, doublequote, escapechar, comment, encoding, encoding_errors, dialect, on_bad_lines, delim_whitespace, low_memory, memory_map, float_precision, storage_options, dtype_backend)\u001b[0m\n\u001b[0;32m   1013\u001b[0m kwds_defaults \u001b[38;5;241m=\u001b[39m _refine_defaults_read(\n\u001b[0;32m   1014\u001b[0m     dialect,\n\u001b[0;32m   1015\u001b[0m     delimiter,\n\u001b[1;32m   (...)\u001b[0m\n\u001b[0;32m   1022\u001b[0m     dtype_backend\u001b[38;5;241m=\u001b[39mdtype_backend,\n\u001b[0;32m   1023\u001b[0m )\n\u001b[0;32m   1024\u001b[0m kwds\u001b[38;5;241m.\u001b[39mupdate(kwds_defaults)\n\u001b[1;32m-> 1026\u001b[0m \u001b[38;5;28;01mreturn\u001b[39;00m _read(filepath_or_buffer, kwds)\n",
      "File \u001b[1;32m~\\anacon\\Lib\\site-packages\\pandas\\io\\parsers\\readers.py:620\u001b[0m, in \u001b[0;36m_read\u001b[1;34m(filepath_or_buffer, kwds)\u001b[0m\n\u001b[0;32m    617\u001b[0m _validate_names(kwds\u001b[38;5;241m.\u001b[39mget(\u001b[38;5;124m\"\u001b[39m\u001b[38;5;124mnames\u001b[39m\u001b[38;5;124m\"\u001b[39m, \u001b[38;5;28;01mNone\u001b[39;00m))\n\u001b[0;32m    619\u001b[0m \u001b[38;5;66;03m# Create the parser.\u001b[39;00m\n\u001b[1;32m--> 620\u001b[0m parser \u001b[38;5;241m=\u001b[39m TextFileReader(filepath_or_buffer, \u001b[38;5;241m*\u001b[39m\u001b[38;5;241m*\u001b[39mkwds)\n\u001b[0;32m    622\u001b[0m \u001b[38;5;28;01mif\u001b[39;00m chunksize \u001b[38;5;129;01mor\u001b[39;00m iterator:\n\u001b[0;32m    623\u001b[0m     \u001b[38;5;28;01mreturn\u001b[39;00m parser\n",
      "File \u001b[1;32m~\\anacon\\Lib\\site-packages\\pandas\\io\\parsers\\readers.py:1620\u001b[0m, in \u001b[0;36mTextFileReader.__init__\u001b[1;34m(self, f, engine, **kwds)\u001b[0m\n\u001b[0;32m   1617\u001b[0m     \u001b[38;5;28mself\u001b[39m\u001b[38;5;241m.\u001b[39moptions[\u001b[38;5;124m\"\u001b[39m\u001b[38;5;124mhas_index_names\u001b[39m\u001b[38;5;124m\"\u001b[39m] \u001b[38;5;241m=\u001b[39m kwds[\u001b[38;5;124m\"\u001b[39m\u001b[38;5;124mhas_index_names\u001b[39m\u001b[38;5;124m\"\u001b[39m]\n\u001b[0;32m   1619\u001b[0m \u001b[38;5;28mself\u001b[39m\u001b[38;5;241m.\u001b[39mhandles: IOHandles \u001b[38;5;241m|\u001b[39m \u001b[38;5;28;01mNone\u001b[39;00m \u001b[38;5;241m=\u001b[39m \u001b[38;5;28;01mNone\u001b[39;00m\n\u001b[1;32m-> 1620\u001b[0m \u001b[38;5;28mself\u001b[39m\u001b[38;5;241m.\u001b[39m_engine \u001b[38;5;241m=\u001b[39m \u001b[38;5;28mself\u001b[39m\u001b[38;5;241m.\u001b[39m_make_engine(f, \u001b[38;5;28mself\u001b[39m\u001b[38;5;241m.\u001b[39mengine)\n",
      "File \u001b[1;32m~\\anacon\\Lib\\site-packages\\pandas\\io\\parsers\\readers.py:1880\u001b[0m, in \u001b[0;36mTextFileReader._make_engine\u001b[1;34m(self, f, engine)\u001b[0m\n\u001b[0;32m   1878\u001b[0m     \u001b[38;5;28;01mif\u001b[39;00m \u001b[38;5;124m\"\u001b[39m\u001b[38;5;124mb\u001b[39m\u001b[38;5;124m\"\u001b[39m \u001b[38;5;129;01mnot\u001b[39;00m \u001b[38;5;129;01min\u001b[39;00m mode:\n\u001b[0;32m   1879\u001b[0m         mode \u001b[38;5;241m+\u001b[39m\u001b[38;5;241m=\u001b[39m \u001b[38;5;124m\"\u001b[39m\u001b[38;5;124mb\u001b[39m\u001b[38;5;124m\"\u001b[39m\n\u001b[1;32m-> 1880\u001b[0m \u001b[38;5;28mself\u001b[39m\u001b[38;5;241m.\u001b[39mhandles \u001b[38;5;241m=\u001b[39m get_handle(\n\u001b[0;32m   1881\u001b[0m     f,\n\u001b[0;32m   1882\u001b[0m     mode,\n\u001b[0;32m   1883\u001b[0m     encoding\u001b[38;5;241m=\u001b[39m\u001b[38;5;28mself\u001b[39m\u001b[38;5;241m.\u001b[39moptions\u001b[38;5;241m.\u001b[39mget(\u001b[38;5;124m\"\u001b[39m\u001b[38;5;124mencoding\u001b[39m\u001b[38;5;124m\"\u001b[39m, \u001b[38;5;28;01mNone\u001b[39;00m),\n\u001b[0;32m   1884\u001b[0m     compression\u001b[38;5;241m=\u001b[39m\u001b[38;5;28mself\u001b[39m\u001b[38;5;241m.\u001b[39moptions\u001b[38;5;241m.\u001b[39mget(\u001b[38;5;124m\"\u001b[39m\u001b[38;5;124mcompression\u001b[39m\u001b[38;5;124m\"\u001b[39m, \u001b[38;5;28;01mNone\u001b[39;00m),\n\u001b[0;32m   1885\u001b[0m     memory_map\u001b[38;5;241m=\u001b[39m\u001b[38;5;28mself\u001b[39m\u001b[38;5;241m.\u001b[39moptions\u001b[38;5;241m.\u001b[39mget(\u001b[38;5;124m\"\u001b[39m\u001b[38;5;124mmemory_map\u001b[39m\u001b[38;5;124m\"\u001b[39m, \u001b[38;5;28;01mFalse\u001b[39;00m),\n\u001b[0;32m   1886\u001b[0m     is_text\u001b[38;5;241m=\u001b[39mis_text,\n\u001b[0;32m   1887\u001b[0m     errors\u001b[38;5;241m=\u001b[39m\u001b[38;5;28mself\u001b[39m\u001b[38;5;241m.\u001b[39moptions\u001b[38;5;241m.\u001b[39mget(\u001b[38;5;124m\"\u001b[39m\u001b[38;5;124mencoding_errors\u001b[39m\u001b[38;5;124m\"\u001b[39m, \u001b[38;5;124m\"\u001b[39m\u001b[38;5;124mstrict\u001b[39m\u001b[38;5;124m\"\u001b[39m),\n\u001b[0;32m   1888\u001b[0m     storage_options\u001b[38;5;241m=\u001b[39m\u001b[38;5;28mself\u001b[39m\u001b[38;5;241m.\u001b[39moptions\u001b[38;5;241m.\u001b[39mget(\u001b[38;5;124m\"\u001b[39m\u001b[38;5;124mstorage_options\u001b[39m\u001b[38;5;124m\"\u001b[39m, \u001b[38;5;28;01mNone\u001b[39;00m),\n\u001b[0;32m   1889\u001b[0m )\n\u001b[0;32m   1890\u001b[0m \u001b[38;5;28;01massert\u001b[39;00m \u001b[38;5;28mself\u001b[39m\u001b[38;5;241m.\u001b[39mhandles \u001b[38;5;129;01mis\u001b[39;00m \u001b[38;5;129;01mnot\u001b[39;00m \u001b[38;5;28;01mNone\u001b[39;00m\n\u001b[0;32m   1891\u001b[0m f \u001b[38;5;241m=\u001b[39m \u001b[38;5;28mself\u001b[39m\u001b[38;5;241m.\u001b[39mhandles\u001b[38;5;241m.\u001b[39mhandle\n",
      "File \u001b[1;32m~\\anacon\\Lib\\site-packages\\pandas\\io\\common.py:873\u001b[0m, in \u001b[0;36mget_handle\u001b[1;34m(path_or_buf, mode, encoding, compression, memory_map, is_text, errors, storage_options)\u001b[0m\n\u001b[0;32m    868\u001b[0m \u001b[38;5;28;01melif\u001b[39;00m \u001b[38;5;28misinstance\u001b[39m(handle, \u001b[38;5;28mstr\u001b[39m):\n\u001b[0;32m    869\u001b[0m     \u001b[38;5;66;03m# Check whether the filename is to be opened in binary mode.\u001b[39;00m\n\u001b[0;32m    870\u001b[0m     \u001b[38;5;66;03m# Binary mode does not support 'encoding' and 'newline'.\u001b[39;00m\n\u001b[0;32m    871\u001b[0m     \u001b[38;5;28;01mif\u001b[39;00m ioargs\u001b[38;5;241m.\u001b[39mencoding \u001b[38;5;129;01mand\u001b[39;00m \u001b[38;5;124m\"\u001b[39m\u001b[38;5;124mb\u001b[39m\u001b[38;5;124m\"\u001b[39m \u001b[38;5;129;01mnot\u001b[39;00m \u001b[38;5;129;01min\u001b[39;00m ioargs\u001b[38;5;241m.\u001b[39mmode:\n\u001b[0;32m    872\u001b[0m         \u001b[38;5;66;03m# Encoding\u001b[39;00m\n\u001b[1;32m--> 873\u001b[0m         handle \u001b[38;5;241m=\u001b[39m \u001b[38;5;28mopen\u001b[39m(\n\u001b[0;32m    874\u001b[0m             handle,\n\u001b[0;32m    875\u001b[0m             ioargs\u001b[38;5;241m.\u001b[39mmode,\n\u001b[0;32m    876\u001b[0m             encoding\u001b[38;5;241m=\u001b[39mioargs\u001b[38;5;241m.\u001b[39mencoding,\n\u001b[0;32m    877\u001b[0m             errors\u001b[38;5;241m=\u001b[39merrors,\n\u001b[0;32m    878\u001b[0m             newline\u001b[38;5;241m=\u001b[39m\u001b[38;5;124m\"\u001b[39m\u001b[38;5;124m\"\u001b[39m,\n\u001b[0;32m    879\u001b[0m         )\n\u001b[0;32m    880\u001b[0m     \u001b[38;5;28;01melse\u001b[39;00m:\n\u001b[0;32m    881\u001b[0m         \u001b[38;5;66;03m# Binary mode\u001b[39;00m\n\u001b[0;32m    882\u001b[0m         handle \u001b[38;5;241m=\u001b[39m \u001b[38;5;28mopen\u001b[39m(handle, ioargs\u001b[38;5;241m.\u001b[39mmode)\n",
      "\u001b[1;31mFileNotFoundError\u001b[0m: [Errno 2] No such file or directory: 'your_dataset.csv'"
     ]
    }
   ],
   "source": [
    "import pandas as pd\n",
    "import matplotlib.pyplot as plt\n",
    "\n",
    "# Load your dataset\n",
    "# Replace 'your_dataset.csv' with your actual dataset file\n",
    "data = pd.read_csv('your_dataset.csv')\n",
    "\n",
    "# Assuming your dataset has 'x_column' and 'y_column'\n",
    "x = data['x_column']  # Replace with your x-axis column name\n",
    "y = data['y_column']  # Replace with your y-axis column name\n",
    "\n",
    "# Create the scatter plot\n",
    "plt.figure(figsize=(10, 6))\n",
    "plt.scatter(x, y, color='blue', alpha=0.5)\n",
    "plt.title('Scatter Plot of Your Data')\n",
    "plt.xlabel('X Axis Label')  # Replace with your x-axis label\n",
    "plt.ylabel('Y Axis Label')  # Replace with your y-axis label\n",
    "plt.grid(True)\n",
    "plt.show()"
   ]
  },
  {
   "cell_type": "code",
   "execution_count": null,
   "id": "cbae2f21-c482-4bbd-8a17-f97f39efaedd",
   "metadata": {},
   "outputs": [],
   "source": []
  }
 ],
 "metadata": {
  "kernelspec": {
   "display_name": "Python [conda env:base]",
   "language": "python",
   "name": "conda-base-py"
  },
  "language_info": {
   "codemirror_mode": {
    "name": "ipython",
    "version": 3
   },
   "file_extension": ".py",
   "mimetype": "text/x-python",
   "name": "python",
   "nbconvert_exporter": "python",
   "pygments_lexer": "ipython3",
   "version": "3.12.7"
  }
 },
 "nbformat": 4,
 "nbformat_minor": 5
}
